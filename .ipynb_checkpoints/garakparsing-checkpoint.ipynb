{
 "cells": [
  {
   "cell_type": "code",
   "execution_count": 12,
   "metadata": {},
   "outputs": [
    {
     "name": "stderr",
     "output_type": "stream",
     "text": [
      "품목 불러오는 중:  97%|███████████████████████████████████████████████████████████  | 92/95 [00:00<00:00, 91940.90it/s]\n",
      "데이터 파싱 중:   0%|                                                                           | 0/92 [00:00<?, ?it/s]"
     ]
    },
    {
     "name": "stdout",
     "output_type": "stream",
     "text": [
      "품목 불러오기 완료\n"
     ]
    },
    {
     "name": "stderr",
     "output_type": "stream",
     "text": [
      "데이터 파싱 중: 100%|██████████████████████████████████████████████████████████████████| 92/92 [10:06<00:00,  6.60s/it]\n",
      "대응파일에 값 입력중: 100%|████████████████████████████████████████████████████████████████████| 92/92 [00:00<?, ?it/s]\n"
     ]
    },
    {
     "name": "stdout",
     "output_type": "stream",
     "text": [
      "데이터 파싱 완료\n",
      "대응파일에 값 입력 완료\n"
     ]
    },
    {
     "name": "stderr",
     "output_type": "stream",
     "text": [
      "파일 만드는중: 100%|███████████████████████████████████████████████████████████████████████████| 92/92 [00:00<?, ?it/s]\n"
     ]
    },
    {
     "name": "stdout",
     "output_type": "stream",
     "text": [
      "파일 만들기 완료\n"
     ]
    }
   ],
   "source": [
    "respondfile('20201218')"
   ]
  },
  {
   "cell_type": "code",
   "execution_count": 2,
   "metadata": {},
   "outputs": [],
   "source": [
    "def respondfile(s_date):\n",
    "    xlsxload()\n",
    "    fromparsing(s_date)\n",
    "    xlsxpriceinput()\n",
    "    xlsxtoxlsx(s_date)"
   ]
  },
  {
   "cell_type": "markdown",
   "metadata": {},
   "source": [
    "진행시키는 파일"
   ]
  },
  {
   "cell_type": "code",
   "execution_count": 3,
   "metadata": {},
   "outputs": [],
   "source": [
    "import requests\n",
    "from bs4 import BeautifulSoup\n",
    "import openpyxl\n",
    "from tqdm import tqdm,trange"
   ]
  },
  {
   "cell_type": "code",
   "execution_count": 4,
   "metadata": {},
   "outputs": [],
   "source": [
    "bslist = []#야채\n",
    "bglist = []#등급\n",
    "bwlist = []#규격\n",
    "bplist = []#야채단가\n",
    "test = []\n",
    "testba = []\n",
    "testbad = []\n",
    "testgood = []"
   ]
  },
  {
   "cell_type": "code",
   "execution_count": 5,
   "metadata": {},
   "outputs": [],
   "source": [
    "def priceload(s_date, s_pummok):\n",
    "    url = 'http://www.garak.co.kr/publicdata/dataOpen.do?'\n",
    "    id = '2860'\n",
    "    pw = '!!Huko980412'\n",
    "    dataid = 'data36'\n",
    "    option = '&pagesize=10&pageidx=1&portal.templet=false'\n",
    "    #s_date = '' #검색일\n",
    "    s_date_p = '20181201' #검색일전일\n",
    "    s_date_p7 = '20181126' #검색일7일전일\n",
    "    s_pos_gubun = '1' #시장구분(가락시장 : 1, 강서시장 : 3)\n",
    "    s_pum_nm = '2' #분류구분(청과 : 2, 수산 : 3)\n",
    "    #s_pummok = '' #검색품목\n",
    "    \n",
    "    urlcompletion = url + 'id=' + id + '&passwd=' + pw + '&dataid=' + dataid + option + '&s_date=' + s_date + '&s_date_p=' + s_date_p + '&s_date_p7=' + s_date_p7 + '&p_pos_gubun=' + s_pos_gubun + '&s_pum_nm=' + s_pum_nm + '&s_pummok=' + s_pummok \n",
    "    return urlcompletion"
   ]
  },
  {
   "cell_type": "markdown",
   "metadata": {},
   "source": [
    "상품명과 날짜를 넣어주면 자동으로 그에 맞게 데이터 검색 주소를 반환"
   ]
  },
  {
   "cell_type": "code",
   "execution_count": 6,
   "metadata": {},
   "outputs": [],
   "source": [
    "def fromparsing(s_date):\n",
    "    for i in trange(0, len(bslist), desc = '데이터 파싱 중'):\n",
    "        if(bglist[i] != ''):\n",
    "            data = BeautifulSoup(requests.get(priceload(s_date, bslist[i])).content).find_all('list')\n",
    "            for item in data:\n",
    "                if((item.pum_nm.string.replace(' ', '') == bslist[i].replace(' ', '')) and (item.g_name.string.replace(' ', '') == bglist[i]) and (item.u_name.string.replace(' ', '').lower() == bwlist[i])):\n",
    "                    bplist.append(item.av_p.string.replace(' ', ''))\n",
    "                    break\n",
    "        else: bplist.append('')\n",
    "    print('데이터 파싱 완료')"
   ]
  },
  {
   "cell_type": "markdown",
   "metadata": {},
   "source": [
    "데이터 긁어오는 함수"
   ]
  },
  {
   "cell_type": "code",
   "execution_count": 7,
   "metadata": {},
   "outputs": [],
   "source": [
    "def xlsxload():\n",
    "    wb = openpyxl.load_workbook('C:/Users/Huko/garakparsing/야채단가 대응파일.xlsx')\n",
    "    ws = wb.active\n",
    "\n",
    "\n",
    "    for i in trange(1, ws.max_row, desc = '품목 불러오는 중'):\n",
    "        if('End' == ws.cell(row = 3 + i, column = 1).value): break\n",
    "        item = ws.cell(row = 3 + i, column = 2).value\n",
    "        grade = ws.cell(row = 3 + i, column = 3).value\n",
    "        standard = ws.cell(row = 3 + i, column = 4).value\n",
    "        \n",
    "        bslist.append(item)\n",
    "        if(grade == None):\n",
    "            bglist.append('')\n",
    "            bwlist.append('')\n",
    "        else:\n",
    "            bglist.append(grade)\n",
    "            bwlist.append(standard)\n",
    "    print('품목 불러오기 완료')"
   ]
  },
  {
   "cell_type": "markdown",
   "metadata": {},
   "source": [
    "대응파일에서 품목 리스트를 긁어오는 함수"
   ]
  },
  {
   "cell_type": "code",
   "execution_count": 8,
   "metadata": {},
   "outputs": [],
   "source": [
    "def xlsxtoxlsx(s_date):\n",
    "    wb = openpyxl.load_workbook('C:/Users/Huko/garakparsing/기본파일(12월 4일 기준).xlsx')\n",
    "    ws = wb.active\n",
    "    for i in trange(0, len(bplist), desc = '파일 만드는중'):\n",
    "        ws.cell(row = 4 + i, column = 4).value = bplist[i]\n",
    "    \n",
    "    wb.save(s_date[0:4] + '년 ' + s_date[4:6] + '월 ' + s_date[6:8] + '일 ' + '야채단가' + '.xlsx')\n",
    "    print('파일 만들기 완료')"
   ]
  },
  {
   "cell_type": "markdown",
   "metadata": {},
   "source": [
    "야채단가를 넣고 파일을 만드는 함수"
   ]
  },
  {
   "cell_type": "code",
   "execution_count": 9,
   "metadata": {},
   "outputs": [],
   "source": [
    "def xlsxpriceinput():\n",
    "    wb = openpyxl.load_workbook('C:/Users/Huko/garakparsing/야채단가 대응파일.xlsx')\n",
    "    ws = wb.active\n",
    "    for i in trange(0, len(bplist), desc = '대응파일에 값 입력중'):\n",
    "        ws.cell(row = 4 + i, column = 5).value = bplist[i]\n",
    "    \n",
    "    wb.save('C:/Users/Huko/garakparsing/야채단가 대응파일.xlsx')\n",
    "    print('대응파일에 값 입력 완료')"
   ]
  },
  {
   "cell_type": "markdown",
   "metadata": {},
   "source": [
    "긁어온 데이터를 대응파일에 붙여주는 함수"
   ]
  },
  {
   "cell_type": "code",
   "execution_count": 10,
   "metadata": {},
   "outputs": [],
   "source": [
    "def testmodule(testtt):\n",
    "    print(priceload('20201204', bslist[testtt]))\n",
    "\n",
    "    data = BeautifulSoup(requests.get(priceload('20201204', bslist[testtt])).content).find_all('list')\n",
    "    for item in data:\n",
    "        if((item.pum_nm.string.replace(' ', '') == bslist[testtt].replace(' ', '')) and (item.g_name.string.replace(' ', '') == bglist[testtt]) and (item.u_name.string.replace(' ', '').lower() == bwlist[testtt])):\n",
    "            print('발동')\n",
    "            print(item.g_name.string.replace(' ', ''))\n",
    "        if(item.pum_nm.string.replace(' ', '') == bslist[testtt]): print('이름 문제 없음' + \"/\" +'')\n",
    "        if(item.g_name.string.replace(' ', '') == bglist[testtt]): print('급은 문제 없음' + \"/\" + '')\n",
    "        if(item.u_name.string.replace(' ', '').lower() == bwlist[testtt]): print('단위 문제 없음')\n",
    "        print(item.pum_nm.string.replace(' ', '') + '/' + item.g_name.string.replace(' ', '') + '/' + item.u_name.string.replace(' ', '').lower())"
   ]
  },
  {
   "cell_type": "markdown",
   "metadata": {},
   "source": [
    "테스트를 위해 데이터를 정상적으로 긁어오는지 체크를 위한 함수"
   ]
  },
  {
   "cell_type": "code",
   "execution_count": 11,
   "metadata": {},
   "outputs": [],
   "source": [
    "def printlist():\n",
    "    for i in range(0, len(bslist)):\n",
    "        print(str(i + 1) + \" : \" + bslist[i] + '/' + bglist[i] + '/' + bwlist[i] + '/' + bplist[i])"
   ]
  },
  {
   "cell_type": "markdown",
   "metadata": {},
   "source": [
    "데이터 검토를 위해 긁어온 리스트들의 값을 보기좋게 불러와주는 함수"
   ]
  }
 ],
 "metadata": {
  "kernelspec": {
   "display_name": "Python 3",
   "language": "python",
   "name": "python3"
  },
  "language_info": {
   "codemirror_mode": {
    "name": "ipython",
    "version": 3
   },
   "file_extension": ".py",
   "mimetype": "text/x-python",
   "name": "python",
   "nbconvert_exporter": "python",
   "pygments_lexer": "ipython3",
   "version": "3.8.3"
  }
 },
 "nbformat": 4,
 "nbformat_minor": 4
}
